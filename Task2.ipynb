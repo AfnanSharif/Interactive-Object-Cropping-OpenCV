{
 "cells": [
  {
   "cell_type": "markdown",
   "metadata": {},
   "source": [
    "# TASK 2\n",
    "### 1.Read the Image"
   ]
  },
  {
   "cell_type": "code",
   "execution_count": 3,
   "metadata": {},
   "outputs": [],
   "source": [
    "import cv2\n",
    "image_path = 'fieldsetup.jpg'\n",
    "image = cv2.imread(image_path)\n",
    "cv2.imshow('Loaded Image', image)\n",
    "cv2.waitKey(0)\n",
    "cv2.destroyAllWindows()\n"
   ]
  },
  {
   "cell_type": "markdown",
   "metadata": {},
   "source": [
    "### 2.Read Coordinates"
   ]
  },
  {
   "cell_type": "code",
   "execution_count": 4,
   "metadata": {},
   "outputs": [
    {
     "name": "stdout",
     "output_type": "stream",
     "text": [
      "Filename: mainMenu, Image Name: testimage.jpeg, X: 8, Y: 83, Width: 229, Height: 224\n",
      "Filename: fieldSetup, Image Name: testimage.jpeg, X: 240, Y: 60, Width: 494, Height: 287\n"
     ]
    }
   ],
   "source": [
    "\n",
    "def read_coordinates_file(filename):\n",
    "    image_info = []\n",
    "\n",
    "    try:\n",
    "        with open(filename, 'r') as file:\n",
    "            lines = file.readlines()\n",
    "            for line in lines:\n",
    "                parts = line.strip().split(',')\n",
    "                if len(parts) == 6:\n",
    "                    filename, image_name, x, y, width, height = parts\n",
    "                    image_info.append({\n",
    "                        'filename': filename,\n",
    "                        'image_name': image_name,\n",
    "                        'x': int(x),\n",
    "                        'y': int(y),\n",
    "                        'width': int(width),\n",
    "                        'height': int(height)\n",
    "                    })\n",
    "    except FileNotFoundError:\n",
    "        print(f\"File '{filename}' not found.\")\n",
    "    except Exception as e:\n",
    "        print(f\"An error occurred while reading the file: {e}\")\n",
    "\n",
    "    return image_info\n",
    "\n",
    "\n",
    "coordinates_file = 'coordinates.txt'\n",
    "image_info = read_coordinates_file(coordinates_file)\n",
    "\n",
    "if image_info:\n",
    "    for info in image_info:\n",
    "        print(f\"Filename: {info['filename']}, Image Name: {info['image_name']}, X: {info['x']}, Y: {info['y']}, Width: {info['width']}, Height: {info['height']}\")\n",
    "else:\n",
    "    print(\"No image information found.\")"
   ]
  },
  {
   "cell_type": "markdown",
   "metadata": {},
   "source": [
    "### 3.Draw Rectangles"
   ]
  },
  {
   "cell_type": "code",
   "execution_count": 2,
   "metadata": {},
   "outputs": [],
   "source": [
    "import cv2\n",
    "\n",
    "\n",
    "def read_coordinates_file(filename):\n",
    "    image_info = []\n",
    "\n",
    "    try:\n",
    "        with open(filename, 'r') as file:\n",
    "            lines = file.readlines()\n",
    "            for line in lines:\n",
    "                parts = line.strip().split(',')\n",
    "                if len(parts) == 6:\n",
    "                    filename, image_name, x, y, width, height = parts\n",
    "                    image_info.append({\n",
    "                        'filename': filename,\n",
    "                        'image_name': image_name,\n",
    "                        'x': int(x),\n",
    "                        'y': int(y),\n",
    "                        'width': int(width),\n",
    "                        'height': int(height)\n",
    "                    })\n",
    "    except FileNotFoundError:\n",
    "        print(f\"File '{filename}' not found.\")\n",
    "    except Exception as e:\n",
    "        print(f\"An error occurred while reading the file: {e}\")\n",
    "\n",
    "    return image_info\n",
    "\n",
    "\n",
    "image_path = 'testimage.jpeg'\n",
    "image = cv2.imread(image_path)\n",
    "coordinates_file = 'coordinates.txt'\n",
    "image_info = read_coordinates_file(coordinates_file)\n",
    "\n",
    "if image_info and image is not None:\n",
    "    \n",
    "    for info in image_info:\n",
    "        x, y, width, height = info['x'], info['y'], info['width'], info['height']\n",
    "        cv2.rectangle(image, (x, y), (x + width, y + height), (0, 255, 0), 2)\n",
    "    \n",
    "    \n",
    "    cv2.imshow('Image with Rectangles', image)\n",
    "    cv2.waitKey(0)\n",
    "    cv2.destroyAllWindows()\n",
    "else:\n",
    "    print(\"Image or coordinate information not found.\")\n"
   ]
  },
  {
   "cell_type": "code",
   "execution_count": null,
   "metadata": {},
   "outputs": [],
   "source": []
  }
 ],
 "metadata": {
  "kernelspec": {
   "display_name": "base",
   "language": "python",
   "name": "python3"
  },
  "language_info": {
   "codemirror_mode": {
    "name": "ipython",
    "version": 3
   },
   "file_extension": ".py",
   "mimetype": "text/x-python",
   "name": "python",
   "nbconvert_exporter": "python",
   "pygments_lexer": "ipython3",
   "version": "3.11.5"
  }
 },
 "nbformat": 4,
 "nbformat_minor": 2
}
